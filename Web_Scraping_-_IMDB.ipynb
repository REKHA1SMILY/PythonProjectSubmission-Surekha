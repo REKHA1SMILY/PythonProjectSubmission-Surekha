{
 "cells": [
  {
   "cell_type": "code",
   "execution_count": 1,
   "id": "25d17034",
   "metadata": {},
   "outputs": [],
   "source": [
    "import requests\n",
    "from bs4 import BeautifulSoup\n",
    "import pandas as pd\n",
    "\n",
    "def get_genre_first_page(genre):\n",
    "    start = 'https://www.imdb.com/search/title/?genres='\n",
    "    end = '&title_type=feature&explore=genres&pf_rd_m=A2FGELUUNOQJNL&pf_rd_p=facfbd0c-6f3d-4c05-9348-22eebd58852e&pf_rd_r=VAYJ7QXVS6BEX8377ERW&pf_rd_s=center-6&pf_rd_t=15051&pf_rd_i=genre&ref_=ft_gnr_mvpop_1'\n",
    "    genre_url = start + genre + end\n",
    "    response = requests.get(genre_url)\n",
    "    \n",
    "    if not response.ok:\n",
    "        print('Status Code:', response.status_code)\n",
    "        raise Exception('Failed to fetch web page' + genre_url)\n",
    "    \n",
    "    doc = BeautifulSoup(response.text)\n",
    "    return doc\n",
    "\n",
    "\n",
    "def get_genre_nth_page(genre, n):\n",
    "    start = 'https://www.imdb.com/search/title/?title_type=feature&genres='\n",
    "    mid = '&start='\n",
    "    num = str((n-1)*50 + 1)\n",
    "    end = '&explore=genres&ref_=adv_nxt'\n",
    "    genre_url = start + genre + mid + num + end\n",
    "    response = requests.get(genre_url)\n",
    "    \n",
    "    if not response.ok:\n",
    "        print('Status Code:', response.status_code)\n",
    "        raise Exception('Failed to get web page' + genre_url)\n",
    "    \n",
    "    doc = BeautifulSoup(response.text)\n",
    "    \n",
    "    return doc"
   ]
  },
  {
   "cell_type": "code",
   "execution_count": 2,
   "id": "4a965977",
   "metadata": {},
   "outputs": [],
   "source": [
    "doc1 = get_genre_first_page('action')\n",
    "doc2 = get_genre_nth_page('action', 2)"
   ]
  },
  {
   "cell_type": "code",
   "execution_count": 3,
   "id": "5244c4c0",
   "metadata": {},
   "outputs": [
    {
     "data": {
      "text/plain": [
       "bs4.BeautifulSoup"
      ]
     },
     "execution_count": 3,
     "metadata": {},
     "output_type": "execute_result"
    }
   ],
   "source": [
    "type(doc1)"
   ]
  },
  {
   "cell_type": "code",
   "execution_count": 4,
   "id": "f5a33d6a",
   "metadata": {},
   "outputs": [
    {
     "data": {
      "text/plain": [
       "'Top 50 Action Movies - IMDb'"
      ]
     },
     "execution_count": 4,
     "metadata": {},
     "output_type": "execute_result"
    }
   ],
   "source": [
    "doc1.title.text"
   ]
  },
  {
   "cell_type": "code",
   "execution_count": 5,
   "id": "3e6a5fa8",
   "metadata": {},
   "outputs": [
    {
     "data": {
      "text/plain": [
       "50"
      ]
     },
     "execution_count": 5,
     "metadata": {},
     "output_type": "execute_result"
    }
   ],
   "source": [
    "movie_tags = doc1.find_all('div', class_ = 'lister-item mode-advanced')\n",
    "len(movie_tags)"
   ]
  },
  {
   "cell_type": "code",
   "execution_count": 6,
   "id": "74d3d3f0",
   "metadata": {},
   "outputs": [
    {
     "data": {
      "text/plain": [
       "<h3 class=\"lister-item-header\">\n",
       "<span class=\"lister-item-index unbold text-primary\">1.</span>\n",
       "<a href=\"/title/tt1462764/\">Indiana Jones and the Dial of Destiny</a>\n",
       "<span class=\"lister-item-year text-muted unbold\">(2023)</span>\n",
       "</h3>"
      ]
     },
     "execution_count": 6,
     "metadata": {},
     "output_type": "execute_result"
    }
   ],
   "source": [
    "sample_h3_tag = movie_tags[0].find('h3')\n",
    "sample_h3_tag"
   ]
  },
  {
   "cell_type": "code",
   "execution_count": 7,
   "id": "b83efb83",
   "metadata": {},
   "outputs": [
    {
     "data": {
      "text/plain": [
       "'Indiana Jones and the Dial of Destiny'"
      ]
     },
     "execution_count": 7,
     "metadata": {},
     "output_type": "execute_result"
    }
   ],
   "source": [
    "sample_name = sample_h3_tag.find('a').text.strip()\n",
    "sample_name"
   ]
  },
  {
   "cell_type": "code",
   "execution_count": 8,
   "id": "caeeaf22",
   "metadata": {},
   "outputs": [
    {
     "data": {
      "text/plain": [
       "'https://www.imdb.com/title/tt1462764/'"
      ]
     },
     "execution_count": 8,
     "metadata": {},
     "output_type": "execute_result"
    }
   ],
   "source": [
    "imdb_url = 'https://www.imdb.com'\n",
    "sample_url = imdb_url + sample_h3_tag.find('a')['href']\n",
    "sample_url"
   ]
  },
  {
   "cell_type": "code",
   "execution_count": 9,
   "id": "b768c568",
   "metadata": {},
   "outputs": [],
   "source": [
    "def find_year(movie_tag):\n",
    "    try:\n",
    "        year = int(movie_tag.find('span', class_ = 'lister-item-year text-muted unbold').text[-5:-1])\n",
    "    except AttributeError:\n",
    "        year = None\n",
    "    except ValueError:\n",
    "        year = None\n",
    "        \n",
    "    return year"
   ]
  },
  {
   "cell_type": "code",
   "execution_count": 10,
   "id": "4dd53cb6",
   "metadata": {},
   "outputs": [
    {
     "data": {
      "text/plain": [
       "2023"
      ]
     },
     "execution_count": 10,
     "metadata": {},
     "output_type": "execute_result"
    }
   ],
   "source": [
    "find_year(movie_tags[0])"
   ]
  },
  {
   "cell_type": "code",
   "execution_count": 11,
   "id": "9d7ec7ac",
   "metadata": {},
   "outputs": [
    {
     "data": {
      "text/plain": [
       "'Action, Adventure'"
      ]
     },
     "execution_count": 11,
     "metadata": {},
     "output_type": "execute_result"
    }
   ],
   "source": [
    "sample_genre = movie_tags[0].find('span', class_ = 'genre').text.strip()\n",
    "sample_genre"
   ]
  },
  {
   "cell_type": "code",
   "execution_count": 12,
   "id": "55c37417",
   "metadata": {},
   "outputs": [],
   "source": [
    "def find_duration(movie_tag):\n",
    "    try:\n",
    "        duration = movie_tag.find('span', class_ = 'runtime').text.strip()\n",
    "    except AttributeError:\n",
    "        duration = None\n",
    "        \n",
    "    return duration"
   ]
  },
  {
   "cell_type": "code",
   "execution_count": 13,
   "id": "00574755",
   "metadata": {},
   "outputs": [
    {
     "data": {
      "text/plain": [
       "'154 min'"
      ]
     },
     "execution_count": 13,
     "metadata": {},
     "output_type": "execute_result"
    }
   ],
   "source": [
    "find_duration(movie_tags[0])"
   ]
  },
  {
   "cell_type": "code",
   "execution_count": 14,
   "id": "2ee4f729",
   "metadata": {},
   "outputs": [],
   "source": [
    "def find_imdb_rating(movie_tag):\n",
    "    try:\n",
    "        imdb_rating = float(movie_tag.find('div', class_ = 'inline-block ratings-imdb-rating').text.strip())\n",
    "    except AttributeError:\n",
    "        imdb_rating = None\n",
    "        \n",
    "    return imdb_rating"
   ]
  },
  {
   "cell_type": "code",
   "execution_count": 15,
   "id": "4e5d60f0",
   "metadata": {},
   "outputs": [
    {
     "data": {
      "text/plain": [
       "6.9"
      ]
     },
     "execution_count": 15,
     "metadata": {},
     "output_type": "execute_result"
    }
   ],
   "source": [
    "find_imdb_rating(movie_tags[0])"
   ]
  },
  {
   "cell_type": "code",
   "execution_count": 16,
   "id": "d622d0d1",
   "metadata": {},
   "outputs": [],
   "source": [
    "def find_directors(movie_tag):\n",
    "    try:\n",
    "        paragraph = movie_tag.find('p', class_ = '').get_text().strip().split('\\n')\n",
    "        directors = ''.join(paragraph[1 : paragraph.index('| ')])\n",
    "        directors = directors.replace(',', ';')\n",
    "    except ValueError:\n",
    "        directors = None\n",
    "        \n",
    "    return directors\n",
    "\n",
    "def find_actors(movie_tag):\n",
    "    try:\n",
    "        paragraph = movie_tag.find('p', class_ = '').get_text().strip().split('\\n')\n",
    "        actors = ''.join(paragraph[paragraph.index('    Stars:')+1 :])\n",
    "        actors = actors.replace(',', ';')\n",
    "    except ValueError:\n",
    "        actors = None\n",
    "        \n",
    "    return actors"
   ]
  },
  {
   "cell_type": "code",
   "execution_count": 17,
   "id": "1c9ec7dc",
   "metadata": {},
   "outputs": [
    {
     "data": {
      "text/plain": [
       "'James Mangold'"
      ]
     },
     "execution_count": 17,
     "metadata": {},
     "output_type": "execute_result"
    }
   ],
   "source": [
    "find_directors(movie_tags[0])"
   ]
  },
  {
   "cell_type": "code",
   "execution_count": 18,
   "id": "7cc337fa",
   "metadata": {},
   "outputs": [
    {
     "data": {
      "text/plain": [
       "'Harrison Ford; Phoebe Waller-Bridge; Antonio Banderas; Karen Allen'"
      ]
     },
     "execution_count": 18,
     "metadata": {},
     "output_type": "execute_result"
    }
   ],
   "source": [
    "find_actors(movie_tags[0])"
   ]
  },
  {
   "cell_type": "code",
   "execution_count": 19,
   "id": "0b596490",
   "metadata": {},
   "outputs": [],
   "source": [
    "def find_votes(movie_tag):\n",
    "    try:\n",
    "        votes = movie_tag.find('p', class_ = 'sort-num_votes-visible').get_text().strip().split('\\n')[1]\n",
    "        if ',' in votes:\n",
    "            votes = int(votes.replace(',' , ''))\n",
    "        else:\n",
    "            votes = int(votes)\n",
    "    except AttributeError:\n",
    "        votes = None\n",
    "    except IndexError:\n",
    "        votes = None\n",
    "        \n",
    "    return votes"
   ]
  },
  {
   "cell_type": "code",
   "execution_count": 20,
   "id": "06abe4f7",
   "metadata": {},
   "outputs": [
    {
     "data": {
      "text/plain": [
       "37254"
      ]
     },
     "execution_count": 20,
     "metadata": {},
     "output_type": "execute_result"
    }
   ],
   "source": [
    "find_votes(movie_tags[0])"
   ]
  },
  {
   "cell_type": "code",
   "execution_count": 21,
   "id": "6d3b6bca",
   "metadata": {},
   "outputs": [
    {
     "name": "stdout",
     "output_type": "stream",
     "text": [
      "Movie Name: Indiana Jones and the Dial of Destiny\n",
      "IMDB URL: https://www.imdb.com/title/tt1462764/\n",
      "Year of Release: 2023\n",
      "Duration: 154 min\n",
      "Genre: Action, Adventure\n",
      "IMDB Rating: 6.9\n",
      "Director: James Mangold\n",
      "Actors: Harrison Ford; Phoebe Waller-Bridge; Antonio Banderas; Karen Allen\n",
      "Votes: 37254\n"
     ]
    }
   ],
   "source": [
    "# Following is the information extracted for the first movie tag:\n",
    "print('Movie Name:', sample_name)\n",
    "print(\"IMDB URL:\", sample_url)\n",
    "print('Year of Release:', find_year(movie_tags[0]))\n",
    "print('Duration:', find_duration(movie_tags[0]))\n",
    "print('Genre:', sample_genre)\n",
    "print('IMDB Rating:', find_imdb_rating(movie_tags[0]))\n",
    "print('Director:', find_directors(movie_tags[0]))\n",
    "print('Actors:', find_actors(movie_tags[0]))\n",
    "print('Votes:', find_votes(movie_tags[0]))"
   ]
  },
  {
   "cell_type": "code",
   "execution_count": 22,
   "id": "01f84439",
   "metadata": {},
   "outputs": [],
   "source": [
    "#Function to write all the information into a dictionary\n",
    "\n",
    "def parse_movie(movie_tag):\n",
    "    \n",
    "    h3_tag = movie_tag.find('h3')\n",
    "    name = h3_tag.find('a').text.strip().replace(',', '')\n",
    "    imdb_url = 'https://www.imdb.com'\n",
    "    url = imdb_url + h3_tag.find('a')['href']\n",
    "    year = find_year(movie_tag)\n",
    "    \n",
    "    duration = find_duration(movie_tag)\n",
    "    genre = movie_tag.find('span', class_ = 'genre').text.strip().replace(',', ';')\n",
    "    imdb_rating = find_imdb_rating(movie_tag)\n",
    "    \n",
    "    directors = find_directors(movie_tag)\n",
    "    actors = find_actors(movie_tag)\n",
    "    votes = find_votes(movie_tag)\n",
    "    \n",
    "    #Return a Dictionary\n",
    "    \n",
    "    return{\n",
    "        'Movie Name': name,\n",
    "        'IMDB URL': url,\n",
    "        'Year of Release': year,\n",
    "        'Duration': duration,\n",
    "        'Genre': genre,\n",
    "        'IMDB Rating': imdb_rating,\n",
    "        'Directors': directors,\n",
    "        'Actors': actors,\n",
    "        'Votes': votes\n",
    "    }"
   ]
  },
  {
   "cell_type": "code",
   "execution_count": 23,
   "id": "6632db8b",
   "metadata": {},
   "outputs": [
    {
     "data": {
      "text/plain": [
       "{'Movie Name': 'Spider-Man: Across the Spider-Verse',\n",
       " 'IMDB URL': 'https://www.imdb.com/title/tt9362722/',\n",
       " 'Year of Release': 2023,\n",
       " 'Duration': '140 min',\n",
       " 'Genre': 'Animation; Action; Adventure',\n",
       " 'IMDB Rating': 8.9,\n",
       " 'Directors': 'Joaquim Dos Santos; Kemp Powers; Justin K. Thompson',\n",
       " 'Actors': 'Shameik Moore; Hailee Steinfeld; Brian Tyree Henry; Luna Lauren Velez',\n",
       " 'Votes': 167206}"
      ]
     },
     "execution_count": 23,
     "metadata": {},
     "output_type": "execute_result"
    }
   ],
   "source": [
    "parse_movie(movie_tags[2])"
   ]
  },
  {
   "cell_type": "code",
   "execution_count": 24,
   "id": "e5d94ec0",
   "metadata": {},
   "outputs": [
    {
     "data": {
      "text/plain": [
       "[{'Movie Name': 'Indiana Jones and the Dial of Destiny',\n",
       "  'IMDB URL': 'https://www.imdb.com/title/tt1462764/',\n",
       "  'Year of Release': 2023,\n",
       "  'Duration': '154 min',\n",
       "  'Genre': 'Action; Adventure',\n",
       "  'IMDB Rating': 6.9,\n",
       "  'Directors': 'James Mangold',\n",
       "  'Actors': 'Harrison Ford; Phoebe Waller-Bridge; Antonio Banderas; Karen Allen',\n",
       "  'Votes': 37254},\n",
       " {'Movie Name': 'The Flash',\n",
       "  'IMDB URL': 'https://www.imdb.com/title/tt0439572/',\n",
       "  'Year of Release': 2023,\n",
       "  'Duration': '144 min',\n",
       "  'Genre': 'Action; Adventure; Fantasy',\n",
       "  'IMDB Rating': 7.2,\n",
       "  'Directors': 'Andy Muschietti',\n",
       "  'Actors': 'Ezra Miller; Michael Keaton; Sasha Calle; Michael Shannon',\n",
       "  'Votes': 80004},\n",
       " {'Movie Name': 'Spider-Man: Across the Spider-Verse',\n",
       "  'IMDB URL': 'https://www.imdb.com/title/tt9362722/',\n",
       "  'Year of Release': 2023,\n",
       "  'Duration': '140 min',\n",
       "  'Genre': 'Animation; Action; Adventure',\n",
       "  'IMDB Rating': 8.9,\n",
       "  'Directors': 'Joaquim Dos Santos; Kemp Powers; Justin K. Thompson',\n",
       "  'Actors': 'Shameik Moore; Hailee Steinfeld; Brian Tyree Henry; Luna Lauren Velez',\n",
       "  'Votes': 167206},\n",
       " {'Movie Name': 'Extraction 2',\n",
       "  'IMDB URL': 'https://www.imdb.com/title/tt12263384/',\n",
       "  'Year of Release': 2023,\n",
       "  'Duration': '122 min',\n",
       "  'Genre': 'Action; Thriller',\n",
       "  'IMDB Rating': 7.1,\n",
       "  'Directors': 'Sam Hargrave',\n",
       "  'Actors': 'Chris Hemsworth; Golshifteh Farahani; Adam Bessa; Tornike Gogrichiani',\n",
       "  'Votes': 79830},\n",
       " {'Movie Name': 'Avatar: The Way of Water',\n",
       "  'IMDB URL': 'https://www.imdb.com/title/tt1630029/',\n",
       "  'Year of Release': 2022,\n",
       "  'Duration': '192 min',\n",
       "  'Genre': 'Action; Adventure; Fantasy',\n",
       "  'IMDB Rating': 7.6,\n",
       "  'Directors': 'James Cameron',\n",
       "  'Actors': 'Sam Worthington; Zoe Saldana; Sigourney Weaver; Stephen Lang',\n",
       "  'Votes': 424332}]"
      ]
     },
     "execution_count": 24,
     "metadata": {},
     "output_type": "execute_result"
    }
   ],
   "source": [
    "top_action_movies = [parse_movie(tag) for tag in movie_tags]\n",
    "top_action_movies[:5]"
   ]
  },
  {
   "attachments": {},
   "cell_type": "markdown",
   "id": "e7d9281a",
   "metadata": {},
   "source": [
    "Below is a function to get the information of top 100 movies from a BeautifulSoup object as input:"
   ]
  },
  {
   "cell_type": "code",
   "execution_count": 25,
   "id": "9b774b14",
   "metadata": {},
   "outputs": [],
   "source": [
    "def get_top_movies(doc):\n",
    "    \n",
    "    # Obtain a list of movie tags from the html source code\n",
    "    movie_tags = doc.find_all('div', class_ = 'lister-item mode-advanced')\n",
    "    \n",
    "    # Create a list of dictionaries containing movie information\n",
    "    top_movies = [parse_movie(tag) for tag in movie_tags]\n",
    "    return top_movies"
   ]
  },
  {
   "attachments": {},
   "cell_type": "markdown",
   "id": "893a7ba1",
   "metadata": {},
   "source": [
    "Finally, below function uses all the functions defined above to give the list of top 100 movies for any Genre:"
   ]
  },
  {
   "cell_type": "code",
   "execution_count": 26,
   "id": "b267dd59",
   "metadata": {},
   "outputs": [],
   "source": [
    "def get_n_pages(genre, n):\n",
    "    \n",
    "    #Getting a list of top 50 movies from first page\n",
    "    doc1 = get_genre_first_page(genre)\n",
    "    top_movies = get_top_movies(doc1)\n",
    "    \n",
    "    #Getting a list of movies from the next (n-1) pages\n",
    "    for i in range(2,n+1):\n",
    "        doc = get_genre_nth_page(genre, i)\n",
    "        top_movies_n = get_top_movies(doc)\n",
    "        top_movies += top_movies_n\n",
    "    \n",
    "    return top_movies"
   ]
  },
  {
   "cell_type": "code",
   "execution_count": 27,
   "id": "acac4b9b",
   "metadata": {
    "scrolled": true
   },
   "outputs": [
    {
     "data": {
      "text/plain": [
       "200"
      ]
     },
     "execution_count": 27,
     "metadata": {},
     "output_type": "execute_result"
    }
   ],
   "source": [
    "top_200_movies = get_n_pages('comedy', 4)\n",
    "len(top_200_movies)"
   ]
  },
  {
   "cell_type": "code",
   "execution_count": 28,
   "id": "f7579454",
   "metadata": {},
   "outputs": [
    {
     "data": {
      "text/plain": [
       "[{'Movie Name': 'No Hard Feelings',\n",
       "  'IMDB URL': 'https://www.imdb.com/title/tt15671028/',\n",
       "  'Year of Release': 2023,\n",
       "  'Duration': '103 min',\n",
       "  'Genre': 'Comedy; Romance',\n",
       "  'IMDB Rating': 6.8,\n",
       "  'Directors': 'Gene Stupnitsky',\n",
       "  'Actors': 'Jennifer Lawrence; Andrew Barth Feldman; Laura Benanti; Matthew Broderick',\n",
       "  'Votes': 13394},\n",
       " {'Movie Name': 'Asteroid City',\n",
       "  'IMDB URL': 'https://www.imdb.com/title/tt14230388/',\n",
       "  'Year of Release': 2023,\n",
       "  'Duration': '105 min',\n",
       "  'Genre': 'Comedy; Drama; Romance',\n",
       "  'IMDB Rating': 7.1,\n",
       "  'Directors': 'Wes Anderson',\n",
       "  'Actors': 'Jason Schwartzman; Scarlett Johansson; Tom Hanks; Jeffrey Wright',\n",
       "  'Votes': 23536},\n",
       " {'Movie Name': 'Barbie',\n",
       "  'IMDB URL': 'https://www.imdb.com/title/tt1517268/',\n",
       "  'Year of Release': 2023,\n",
       "  'Duration': '114 min',\n",
       "  'Genre': 'Adventure; Comedy; Fantasy',\n",
       "  'IMDB Rating': None,\n",
       "  'Directors': 'Greta Gerwig',\n",
       "  'Actors': 'Margot Robbie; Kingsley Ben-Adir; Ryan Gosling; Emma Mackey',\n",
       "  'Votes': None},\n",
       " {'Movie Name': 'Elemental',\n",
       "  'IMDB URL': 'https://www.imdb.com/title/tt15789038/',\n",
       "  'Year of Release': 2023,\n",
       "  'Duration': '101 min',\n",
       "  'Genre': 'Animation; Adventure; Comedy',\n",
       "  'IMDB Rating': 7.1,\n",
       "  'Directors': 'Peter Sohn',\n",
       "  'Actors': 'Leah Lewis; Mamoudou Athie; Ronnie Del Carmen; Shila Ommi',\n",
       "  'Votes': 15551},\n",
       " {'Movie Name': 'Drive-Away Dolls',\n",
       "  'IMDB URL': 'https://www.imdb.com/title/tt19356262/',\n",
       "  'Year of Release': 2023,\n",
       "  'Duration': None,\n",
       "  'Genre': 'Action; Comedy; Thriller',\n",
       "  'IMDB Rating': None,\n",
       "  'Directors': 'Ethan Coen',\n",
       "  'Actors': 'Margaret Qualley; Geraldine Viswanathan; Pedro Pascal; Annie Gonzalez',\n",
       "  'Votes': None}]"
      ]
     },
     "execution_count": 28,
     "metadata": {},
     "output_type": "execute_result"
    }
   ],
   "source": [
    "top_200_movies[:5]"
   ]
  },
  {
   "attachments": {},
   "cell_type": "markdown",
   "id": "72cd7304",
   "metadata": {},
   "source": [
    "## Write Information to CSV\n",
    "\n",
    "Below is a function which can be used to write all the extracted information into a csv file:"
   ]
  },
  {
   "cell_type": "code",
   "execution_count": 29,
   "id": "6ea6f071",
   "metadata": {},
   "outputs": [],
   "source": [
    "def write_csv(items, path):\n",
    "    with open(path, 'w') as f:\n",
    "        if len(items) == 0:\n",
    "            return\n",
    "        \n",
    "        headers = ','.join(list(items[0].keys()))\n",
    "        f.write(headers + '\\n')\n",
    "        \n",
    "        for item in items:\n",
    "            values = []\n",
    "            for value in item.values():\n",
    "                values.append(str(value))\n",
    "            f.write(','.join(values) + '\\n')"
   ]
  },
  {
   "cell_type": "code",
   "execution_count": 30,
   "id": "e256de08",
   "metadata": {},
   "outputs": [],
   "source": [
    "movies = pd.DataFrame(top_200_movies)"
   ]
  },
  {
   "cell_type": "code",
   "execution_count": 31,
   "id": "71de6a6b",
   "metadata": {},
   "outputs": [
    {
     "data": {
      "text/html": [
       "<div>\n",
       "<style scoped>\n",
       "    .dataframe tbody tr th:only-of-type {\n",
       "        vertical-align: middle;\n",
       "    }\n",
       "\n",
       "    .dataframe tbody tr th {\n",
       "        vertical-align: top;\n",
       "    }\n",
       "\n",
       "    .dataframe thead th {\n",
       "        text-align: right;\n",
       "    }\n",
       "</style>\n",
       "<table border=\"1\" class=\"dataframe\">\n",
       "  <thead>\n",
       "    <tr style=\"text-align: right;\">\n",
       "      <th></th>\n",
       "      <th>Movie Name</th>\n",
       "      <th>IMDB URL</th>\n",
       "      <th>Year of Release</th>\n",
       "      <th>Duration</th>\n",
       "      <th>Genre</th>\n",
       "      <th>IMDB Rating</th>\n",
       "      <th>Directors</th>\n",
       "      <th>Actors</th>\n",
       "      <th>Votes</th>\n",
       "    </tr>\n",
       "  </thead>\n",
       "  <tbody>\n",
       "    <tr>\n",
       "      <th>0</th>\n",
       "      <td>No Hard Feelings</td>\n",
       "      <td>https://www.imdb.com/title/tt15671028/</td>\n",
       "      <td>2023</td>\n",
       "      <td>103 min</td>\n",
       "      <td>Comedy; Romance</td>\n",
       "      <td>6.8</td>\n",
       "      <td>Gene Stupnitsky</td>\n",
       "      <td>Jennifer Lawrence; Andrew Barth Feldman; Laura...</td>\n",
       "      <td>13394.0</td>\n",
       "    </tr>\n",
       "    <tr>\n",
       "      <th>1</th>\n",
       "      <td>Asteroid City</td>\n",
       "      <td>https://www.imdb.com/title/tt14230388/</td>\n",
       "      <td>2023</td>\n",
       "      <td>105 min</td>\n",
       "      <td>Comedy; Drama; Romance</td>\n",
       "      <td>7.1</td>\n",
       "      <td>Wes Anderson</td>\n",
       "      <td>Jason Schwartzman; Scarlett Johansson; Tom Han...</td>\n",
       "      <td>23536.0</td>\n",
       "    </tr>\n",
       "    <tr>\n",
       "      <th>2</th>\n",
       "      <td>Barbie</td>\n",
       "      <td>https://www.imdb.com/title/tt1517268/</td>\n",
       "      <td>2023</td>\n",
       "      <td>114 min</td>\n",
       "      <td>Adventure; Comedy; Fantasy</td>\n",
       "      <td>NaN</td>\n",
       "      <td>Greta Gerwig</td>\n",
       "      <td>Margot Robbie; Kingsley Ben-Adir; Ryan Gosling...</td>\n",
       "      <td>NaN</td>\n",
       "    </tr>\n",
       "  </tbody>\n",
       "</table>\n",
       "</div>"
      ],
      "text/plain": [
       "         Movie Name                                IMDB URL  Year of Release  \\\n",
       "0  No Hard Feelings  https://www.imdb.com/title/tt15671028/             2023   \n",
       "1     Asteroid City  https://www.imdb.com/title/tt14230388/             2023   \n",
       "2            Barbie   https://www.imdb.com/title/tt1517268/             2023   \n",
       "\n",
       "  Duration                       Genre  IMDB Rating        Directors  \\\n",
       "0  103 min             Comedy; Romance          6.8  Gene Stupnitsky   \n",
       "1  105 min      Comedy; Drama; Romance          7.1     Wes Anderson   \n",
       "2  114 min  Adventure; Comedy; Fantasy          NaN     Greta Gerwig   \n",
       "\n",
       "                                              Actors    Votes  \n",
       "0  Jennifer Lawrence; Andrew Barth Feldman; Laura...  13394.0  \n",
       "1  Jason Schwartzman; Scarlett Johansson; Tom Han...  23536.0  \n",
       "2  Margot Robbie; Kingsley Ben-Adir; Ryan Gosling...      NaN  "
      ]
     },
     "execution_count": 31,
     "metadata": {},
     "output_type": "execute_result"
    }
   ],
   "source": [
    "movies.head(3)"
   ]
  },
  {
   "cell_type": "code",
   "execution_count": 32,
   "id": "04298f7a",
   "metadata": {},
   "outputs": [],
   "source": [
    "movies = movies[['Movie Name','Genre']]"
   ]
  },
  {
   "cell_type": "code",
   "execution_count": 33,
   "id": "e8b77fe1",
   "metadata": {},
   "outputs": [],
   "source": [
    "movies.columns = ['title','genres']"
   ]
  },
  {
   "cell_type": "code",
   "execution_count": 34,
   "id": "1cae211f",
   "metadata": {},
   "outputs": [],
   "source": [
    "# write_csv(top_200_movies, 'top-200-movies.csv')\n",
    "\n",
    "movies.to_csv('movies_data.csv')"
   ]
  },
  {
   "attachments": {},
   "cell_type": "markdown",
   "id": "a84dcffa",
   "metadata": {},
   "source": [
    "### Use Pandas to Analyse the Data\n",
    "\n",
    "We can now view all the extracted information in the form of a data frame using the pandas library"
   ]
  },
  {
   "cell_type": "code",
   "execution_count": 35,
   "id": "84dde60e",
   "metadata": {},
   "outputs": [],
   "source": [
    "import pandas as pd"
   ]
  },
  {
   "cell_type": "code",
   "execution_count": 36,
   "id": "ac67ac70",
   "metadata": {},
   "outputs": [
    {
     "ename": "FileNotFoundError",
     "evalue": "[Errno 2] No such file or directory: 'top-200-movies.csv'",
     "output_type": "error",
     "traceback": [
      "\u001b[0;31m---------------------------------------------------------------------------\u001b[0m",
      "\u001b[0;31mFileNotFoundError\u001b[0m                         Traceback (most recent call last)",
      "Cell \u001b[0;32mIn[36], line 1\u001b[0m\n\u001b[0;32m----> 1\u001b[0m pd\u001b[39m.\u001b[39;49mread_csv(\u001b[39m'\u001b[39;49m\u001b[39mtop-200-movies.csv\u001b[39;49m\u001b[39m'\u001b[39;49m)\u001b[39m.\u001b[39mhead()\n",
      "File \u001b[0;32m~/Library/Python/3.9/lib/python/site-packages/pandas/util/_decorators.py:311\u001b[0m, in \u001b[0;36mdeprecate_nonkeyword_arguments.<locals>.decorate.<locals>.wrapper\u001b[0;34m(*args, **kwargs)\u001b[0m\n\u001b[1;32m    305\u001b[0m \u001b[39mif\u001b[39;00m \u001b[39mlen\u001b[39m(args) \u001b[39m>\u001b[39m num_allow_args:\n\u001b[1;32m    306\u001b[0m     warnings\u001b[39m.\u001b[39mwarn(\n\u001b[1;32m    307\u001b[0m         msg\u001b[39m.\u001b[39mformat(arguments\u001b[39m=\u001b[39marguments),\n\u001b[1;32m    308\u001b[0m         \u001b[39mFutureWarning\u001b[39;00m,\n\u001b[1;32m    309\u001b[0m         stacklevel\u001b[39m=\u001b[39mstacklevel,\n\u001b[1;32m    310\u001b[0m     )\n\u001b[0;32m--> 311\u001b[0m \u001b[39mreturn\u001b[39;00m func(\u001b[39m*\u001b[39;49margs, \u001b[39m*\u001b[39;49m\u001b[39m*\u001b[39;49mkwargs)\n",
      "File \u001b[0;32m~/Library/Python/3.9/lib/python/site-packages/pandas/io/parsers/readers.py:680\u001b[0m, in \u001b[0;36mread_csv\u001b[0;34m(filepath_or_buffer, sep, delimiter, header, names, index_col, usecols, squeeze, prefix, mangle_dupe_cols, dtype, engine, converters, true_values, false_values, skipinitialspace, skiprows, skipfooter, nrows, na_values, keep_default_na, na_filter, verbose, skip_blank_lines, parse_dates, infer_datetime_format, keep_date_col, date_parser, dayfirst, cache_dates, iterator, chunksize, compression, thousands, decimal, lineterminator, quotechar, quoting, doublequote, escapechar, comment, encoding, encoding_errors, dialect, error_bad_lines, warn_bad_lines, on_bad_lines, delim_whitespace, low_memory, memory_map, float_precision, storage_options)\u001b[0m\n\u001b[1;32m    665\u001b[0m kwds_defaults \u001b[39m=\u001b[39m _refine_defaults_read(\n\u001b[1;32m    666\u001b[0m     dialect,\n\u001b[1;32m    667\u001b[0m     delimiter,\n\u001b[0;32m   (...)\u001b[0m\n\u001b[1;32m    676\u001b[0m     defaults\u001b[39m=\u001b[39m{\u001b[39m\"\u001b[39m\u001b[39mdelimiter\u001b[39m\u001b[39m\"\u001b[39m: \u001b[39m\"\u001b[39m\u001b[39m,\u001b[39m\u001b[39m\"\u001b[39m},\n\u001b[1;32m    677\u001b[0m )\n\u001b[1;32m    678\u001b[0m kwds\u001b[39m.\u001b[39mupdate(kwds_defaults)\n\u001b[0;32m--> 680\u001b[0m \u001b[39mreturn\u001b[39;00m _read(filepath_or_buffer, kwds)\n",
      "File \u001b[0;32m~/Library/Python/3.9/lib/python/site-packages/pandas/io/parsers/readers.py:575\u001b[0m, in \u001b[0;36m_read\u001b[0;34m(filepath_or_buffer, kwds)\u001b[0m\n\u001b[1;32m    572\u001b[0m _validate_names(kwds\u001b[39m.\u001b[39mget(\u001b[39m\"\u001b[39m\u001b[39mnames\u001b[39m\u001b[39m\"\u001b[39m, \u001b[39mNone\u001b[39;00m))\n\u001b[1;32m    574\u001b[0m \u001b[39m# Create the parser.\u001b[39;00m\n\u001b[0;32m--> 575\u001b[0m parser \u001b[39m=\u001b[39m TextFileReader(filepath_or_buffer, \u001b[39m*\u001b[39;49m\u001b[39m*\u001b[39;49mkwds)\n\u001b[1;32m    577\u001b[0m \u001b[39mif\u001b[39;00m chunksize \u001b[39mor\u001b[39;00m iterator:\n\u001b[1;32m    578\u001b[0m     \u001b[39mreturn\u001b[39;00m parser\n",
      "File \u001b[0;32m~/Library/Python/3.9/lib/python/site-packages/pandas/io/parsers/readers.py:934\u001b[0m, in \u001b[0;36mTextFileReader.__init__\u001b[0;34m(self, f, engine, **kwds)\u001b[0m\n\u001b[1;32m    931\u001b[0m     \u001b[39mself\u001b[39m\u001b[39m.\u001b[39moptions[\u001b[39m\"\u001b[39m\u001b[39mhas_index_names\u001b[39m\u001b[39m\"\u001b[39m] \u001b[39m=\u001b[39m kwds[\u001b[39m\"\u001b[39m\u001b[39mhas_index_names\u001b[39m\u001b[39m\"\u001b[39m]\n\u001b[1;32m    933\u001b[0m \u001b[39mself\u001b[39m\u001b[39m.\u001b[39mhandles: IOHandles \u001b[39m|\u001b[39m \u001b[39mNone\u001b[39;00m \u001b[39m=\u001b[39m \u001b[39mNone\u001b[39;00m\n\u001b[0;32m--> 934\u001b[0m \u001b[39mself\u001b[39m\u001b[39m.\u001b[39m_engine \u001b[39m=\u001b[39m \u001b[39mself\u001b[39;49m\u001b[39m.\u001b[39;49m_make_engine(f, \u001b[39mself\u001b[39;49m\u001b[39m.\u001b[39;49mengine)\n",
      "File \u001b[0;32m~/Library/Python/3.9/lib/python/site-packages/pandas/io/parsers/readers.py:1218\u001b[0m, in \u001b[0;36mTextFileReader._make_engine\u001b[0;34m(self, f, engine)\u001b[0m\n\u001b[1;32m   1214\u001b[0m     mode \u001b[39m=\u001b[39m \u001b[39m\"\u001b[39m\u001b[39mrb\u001b[39m\u001b[39m\"\u001b[39m\n\u001b[1;32m   1215\u001b[0m \u001b[39m# error: No overload variant of \"get_handle\" matches argument types\u001b[39;00m\n\u001b[1;32m   1216\u001b[0m \u001b[39m# \"Union[str, PathLike[str], ReadCsvBuffer[bytes], ReadCsvBuffer[str]]\"\u001b[39;00m\n\u001b[1;32m   1217\u001b[0m \u001b[39m# , \"str\", \"bool\", \"Any\", \"Any\", \"Any\", \"Any\", \"Any\"\u001b[39;00m\n\u001b[0;32m-> 1218\u001b[0m \u001b[39mself\u001b[39m\u001b[39m.\u001b[39mhandles \u001b[39m=\u001b[39m get_handle(  \u001b[39m# type: ignore[call-overload]\u001b[39;49;00m\n\u001b[1;32m   1219\u001b[0m     f,\n\u001b[1;32m   1220\u001b[0m     mode,\n\u001b[1;32m   1221\u001b[0m     encoding\u001b[39m=\u001b[39;49m\u001b[39mself\u001b[39;49m\u001b[39m.\u001b[39;49moptions\u001b[39m.\u001b[39;49mget(\u001b[39m\"\u001b[39;49m\u001b[39mencoding\u001b[39;49m\u001b[39m\"\u001b[39;49m, \u001b[39mNone\u001b[39;49;00m),\n\u001b[1;32m   1222\u001b[0m     compression\u001b[39m=\u001b[39;49m\u001b[39mself\u001b[39;49m\u001b[39m.\u001b[39;49moptions\u001b[39m.\u001b[39;49mget(\u001b[39m\"\u001b[39;49m\u001b[39mcompression\u001b[39;49m\u001b[39m\"\u001b[39;49m, \u001b[39mNone\u001b[39;49;00m),\n\u001b[1;32m   1223\u001b[0m     memory_map\u001b[39m=\u001b[39;49m\u001b[39mself\u001b[39;49m\u001b[39m.\u001b[39;49moptions\u001b[39m.\u001b[39;49mget(\u001b[39m\"\u001b[39;49m\u001b[39mmemory_map\u001b[39;49m\u001b[39m\"\u001b[39;49m, \u001b[39mFalse\u001b[39;49;00m),\n\u001b[1;32m   1224\u001b[0m     is_text\u001b[39m=\u001b[39;49mis_text,\n\u001b[1;32m   1225\u001b[0m     errors\u001b[39m=\u001b[39;49m\u001b[39mself\u001b[39;49m\u001b[39m.\u001b[39;49moptions\u001b[39m.\u001b[39;49mget(\u001b[39m\"\u001b[39;49m\u001b[39mencoding_errors\u001b[39;49m\u001b[39m\"\u001b[39;49m, \u001b[39m\"\u001b[39;49m\u001b[39mstrict\u001b[39;49m\u001b[39m\"\u001b[39;49m),\n\u001b[1;32m   1226\u001b[0m     storage_options\u001b[39m=\u001b[39;49m\u001b[39mself\u001b[39;49m\u001b[39m.\u001b[39;49moptions\u001b[39m.\u001b[39;49mget(\u001b[39m\"\u001b[39;49m\u001b[39mstorage_options\u001b[39;49m\u001b[39m\"\u001b[39;49m, \u001b[39mNone\u001b[39;49;00m),\n\u001b[1;32m   1227\u001b[0m )\n\u001b[1;32m   1228\u001b[0m \u001b[39massert\u001b[39;00m \u001b[39mself\u001b[39m\u001b[39m.\u001b[39mhandles \u001b[39mis\u001b[39;00m \u001b[39mnot\u001b[39;00m \u001b[39mNone\u001b[39;00m\n\u001b[1;32m   1229\u001b[0m f \u001b[39m=\u001b[39m \u001b[39mself\u001b[39m\u001b[39m.\u001b[39mhandles\u001b[39m.\u001b[39mhandle\n",
      "File \u001b[0;32m~/Library/Python/3.9/lib/python/site-packages/pandas/io/common.py:786\u001b[0m, in \u001b[0;36mget_handle\u001b[0;34m(path_or_buf, mode, encoding, compression, memory_map, is_text, errors, storage_options)\u001b[0m\n\u001b[1;32m    781\u001b[0m \u001b[39melif\u001b[39;00m \u001b[39misinstance\u001b[39m(handle, \u001b[39mstr\u001b[39m):\n\u001b[1;32m    782\u001b[0m     \u001b[39m# Check whether the filename is to be opened in binary mode.\u001b[39;00m\n\u001b[1;32m    783\u001b[0m     \u001b[39m# Binary mode does not support 'encoding' and 'newline'.\u001b[39;00m\n\u001b[1;32m    784\u001b[0m     \u001b[39mif\u001b[39;00m ioargs\u001b[39m.\u001b[39mencoding \u001b[39mand\u001b[39;00m \u001b[39m\"\u001b[39m\u001b[39mb\u001b[39m\u001b[39m\"\u001b[39m \u001b[39mnot\u001b[39;00m \u001b[39min\u001b[39;00m ioargs\u001b[39m.\u001b[39mmode:\n\u001b[1;32m    785\u001b[0m         \u001b[39m# Encoding\u001b[39;00m\n\u001b[0;32m--> 786\u001b[0m         handle \u001b[39m=\u001b[39m \u001b[39mopen\u001b[39;49m(\n\u001b[1;32m    787\u001b[0m             handle,\n\u001b[1;32m    788\u001b[0m             ioargs\u001b[39m.\u001b[39;49mmode,\n\u001b[1;32m    789\u001b[0m             encoding\u001b[39m=\u001b[39;49mioargs\u001b[39m.\u001b[39;49mencoding,\n\u001b[1;32m    790\u001b[0m             errors\u001b[39m=\u001b[39;49merrors,\n\u001b[1;32m    791\u001b[0m             newline\u001b[39m=\u001b[39;49m\u001b[39m\"\u001b[39;49m\u001b[39m\"\u001b[39;49m,\n\u001b[1;32m    792\u001b[0m         )\n\u001b[1;32m    793\u001b[0m     \u001b[39melse\u001b[39;00m:\n\u001b[1;32m    794\u001b[0m         \u001b[39m# Binary mode\u001b[39;00m\n\u001b[1;32m    795\u001b[0m         handle \u001b[39m=\u001b[39m \u001b[39mopen\u001b[39m(handle, ioargs\u001b[39m.\u001b[39mmode)\n",
      "\u001b[0;31mFileNotFoundError\u001b[0m: [Errno 2] No such file or directory: 'top-200-movies.csv'"
     ]
    }
   ],
   "source": [
    "pd.read_csv('top-200-movies.csv').head()"
   ]
  },
  {
   "attachments": {},
   "cell_type": "markdown",
   "id": "a89c3944",
   "metadata": {},
   "source": [
    "## The Last Leg\n",
    "\n",
    "We can now modify our function to do all of the following:\n",
    "\n",
    "* Download the web page from IMDB\n",
    "* Extract data for top 100 movies from the web page\n",
    "* Write the data into a CSV file\n",
    "* Show the data as a pandas dataframe"
   ]
  },
  {
   "cell_type": "code",
   "execution_count": 50,
   "id": "726c964d",
   "metadata": {},
   "outputs": [],
   "source": [
    "def get_n_pages(genre, n):\n",
    "    \n",
    "    #Getting a list of top 50 movies from first page\n",
    "    doc1 = get_genre_first_page(genre)\n",
    "    top_movies = get_top_movies(doc1)\n",
    "    \n",
    "    #Getting a list of movies from the next (n-1) pages\n",
    "    for i in range(2,n+1):\n",
    "        doc = get_genre_nth_page(genre, i)\n",
    "        top_movies_n = get_top_movies(doc)\n",
    "        top_movies += top_movies_n\n",
    "    \n",
    "    #Writing the data into a csv file\n",
    "    write_csv(top_movies, f'top-{genre}-movies.csv')\n",
    "    \n",
    "    return pd.read_csv(f'top-{genre}-movies.csv')"
   ]
  },
  {
   "cell_type": "code",
   "execution_count": 51,
   "id": "88373ecf",
   "metadata": {},
   "outputs": [
    {
     "data": {
      "text/html": [
       "<div>\n",
       "<style scoped>\n",
       "    .dataframe tbody tr th:only-of-type {\n",
       "        vertical-align: middle;\n",
       "    }\n",
       "\n",
       "    .dataframe tbody tr th {\n",
       "        vertical-align: top;\n",
       "    }\n",
       "\n",
       "    .dataframe thead th {\n",
       "        text-align: right;\n",
       "    }\n",
       "</style>\n",
       "<table border=\"1\" class=\"dataframe\">\n",
       "  <thead>\n",
       "    <tr style=\"text-align: right;\">\n",
       "      <th></th>\n",
       "      <th>Movie Name</th>\n",
       "      <th>IMDB URL</th>\n",
       "      <th>Year of Release</th>\n",
       "      <th>Duration</th>\n",
       "      <th>Genre</th>\n",
       "      <th>IMDB Rating</th>\n",
       "      <th>Directors</th>\n",
       "      <th>Actors</th>\n",
       "      <th>Votes</th>\n",
       "    </tr>\n",
       "  </thead>\n",
       "  <tbody>\n",
       "    <tr>\n",
       "      <th>0</th>\n",
       "      <td>Indiana Jones and the Dial of Destiny</td>\n",
       "      <td>https://www.imdb.com/title/tt1462764/</td>\n",
       "      <td>2023</td>\n",
       "      <td>154 min</td>\n",
       "      <td>Action; Adventure</td>\n",
       "      <td>6.9</td>\n",
       "      <td>James Mangold</td>\n",
       "      <td>Harrison Ford; Phoebe Waller-Bridge; Antonio B...</td>\n",
       "      <td>37047</td>\n",
       "    </tr>\n",
       "    <tr>\n",
       "      <th>1</th>\n",
       "      <td>The Flash</td>\n",
       "      <td>https://www.imdb.com/title/tt0439572/</td>\n",
       "      <td>2023</td>\n",
       "      <td>144 min</td>\n",
       "      <td>Action; Adventure; Fantasy</td>\n",
       "      <td>7.2</td>\n",
       "      <td>Andy Muschietti</td>\n",
       "      <td>Ezra Miller; Michael Keaton; Sasha Calle; Mich...</td>\n",
       "      <td>79952</td>\n",
       "    </tr>\n",
       "    <tr>\n",
       "      <th>2</th>\n",
       "      <td>Spider-Man: Across the Spider-Verse</td>\n",
       "      <td>https://www.imdb.com/title/tt9362722/</td>\n",
       "      <td>2023</td>\n",
       "      <td>140 min</td>\n",
       "      <td>Animation; Action; Adventure</td>\n",
       "      <td>8.9</td>\n",
       "      <td>Joaquim Dos Santos; Kemp Powers; Justin K. Tho...</td>\n",
       "      <td>Shameik Moore; Hailee Steinfeld; Brian Tyree H...</td>\n",
       "      <td>167133</td>\n",
       "    </tr>\n",
       "    <tr>\n",
       "      <th>3</th>\n",
       "      <td>Extraction 2</td>\n",
       "      <td>https://www.imdb.com/title/tt12263384/</td>\n",
       "      <td>2023</td>\n",
       "      <td>122 min</td>\n",
       "      <td>Action; Thriller</td>\n",
       "      <td>7.1</td>\n",
       "      <td>Sam Hargrave</td>\n",
       "      <td>Chris Hemsworth; Golshifteh Farahani; Adam Bes...</td>\n",
       "      <td>79746</td>\n",
       "    </tr>\n",
       "    <tr>\n",
       "      <th>4</th>\n",
       "      <td>Avatar: The Way of Water</td>\n",
       "      <td>https://www.imdb.com/title/tt1630029/</td>\n",
       "      <td>2022</td>\n",
       "      <td>192 min</td>\n",
       "      <td>Action; Adventure; Fantasy</td>\n",
       "      <td>7.6</td>\n",
       "      <td>James Cameron</td>\n",
       "      <td>Sam Worthington; Zoe Saldana; Sigourney Weaver...</td>\n",
       "      <td>424292</td>\n",
       "    </tr>\n",
       "    <tr>\n",
       "      <th>...</th>\n",
       "      <td>...</td>\n",
       "      <td>...</td>\n",
       "      <td>...</td>\n",
       "      <td>...</td>\n",
       "      <td>...</td>\n",
       "      <td>...</td>\n",
       "      <td>...</td>\n",
       "      <td>...</td>\n",
       "      <td>...</td>\n",
       "    </tr>\n",
       "    <tr>\n",
       "      <th>195</th>\n",
       "      <td>The Incredibles</td>\n",
       "      <td>https://www.imdb.com/title/tt0317705/</td>\n",
       "      <td>2004</td>\n",
       "      <td>115 min</td>\n",
       "      <td>Animation; Action; Adventure</td>\n",
       "      <td>8.0</td>\n",
       "      <td>Brad Bird</td>\n",
       "      <td>Craig T. Nelson; Samuel L. Jackson; Holly Hunt...</td>\n",
       "      <td>766624</td>\n",
       "    </tr>\n",
       "    <tr>\n",
       "      <th>196</th>\n",
       "      <td>Mortal Kombat</td>\n",
       "      <td>https://www.imdb.com/title/tt0293429/</td>\n",
       "      <td>2021</td>\n",
       "      <td>110 min</td>\n",
       "      <td>Action; Adventure; Fantasy</td>\n",
       "      <td>6.1</td>\n",
       "      <td>Simon McQuoid</td>\n",
       "      <td>Lewis Tan; Jessica McNamee; Josh Lawson; Joe T...</td>\n",
       "      <td>182117</td>\n",
       "    </tr>\n",
       "    <tr>\n",
       "      <th>197</th>\n",
       "      <td>The Maze Runner</td>\n",
       "      <td>https://www.imdb.com/title/tt1790864/</td>\n",
       "      <td>2014</td>\n",
       "      <td>113 min</td>\n",
       "      <td>Action; Mystery; Sci-Fi</td>\n",
       "      <td>6.8</td>\n",
       "      <td>Wes Ball</td>\n",
       "      <td>Dylan O'Brien; Kaya Scodelario; Will Poulter; ...</td>\n",
       "      <td>486015</td>\n",
       "    </tr>\n",
       "    <tr>\n",
       "      <th>198</th>\n",
       "      <td>Polite Society</td>\n",
       "      <td>https://www.imdb.com/title/tt18257464/</td>\n",
       "      <td>2023</td>\n",
       "      <td>104 min</td>\n",
       "      <td>Action; Comedy</td>\n",
       "      <td>6.7</td>\n",
       "      <td>Nida Manzoor</td>\n",
       "      <td>Priya Kansara; Ritu Arya; Renu Brindle; Rekha ...</td>\n",
       "      <td>4929</td>\n",
       "    </tr>\n",
       "    <tr>\n",
       "      <th>199</th>\n",
       "      <td>Black Widow</td>\n",
       "      <td>https://www.imdb.com/title/tt3480822/</td>\n",
       "      <td>2021</td>\n",
       "      <td>134 min</td>\n",
       "      <td>Action; Adventure; Sci-Fi</td>\n",
       "      <td>6.7</td>\n",
       "      <td>Cate Shortland</td>\n",
       "      <td>Scarlett Johansson; Florence Pugh; David Harbo...</td>\n",
       "      <td>400156</td>\n",
       "    </tr>\n",
       "  </tbody>\n",
       "</table>\n",
       "<p>200 rows × 9 columns</p>\n",
       "</div>"
      ],
      "text/plain": [
       "                                Movie Name  \\\n",
       "0    Indiana Jones and the Dial of Destiny   \n",
       "1                                The Flash   \n",
       "2      Spider-Man: Across the Spider-Verse   \n",
       "3                             Extraction 2   \n",
       "4                 Avatar: The Way of Water   \n",
       "..                                     ...   \n",
       "195                        The Incredibles   \n",
       "196                          Mortal Kombat   \n",
       "197                        The Maze Runner   \n",
       "198                         Polite Society   \n",
       "199                            Black Widow   \n",
       "\n",
       "                                   IMDB URL Year of Release Duration  \\\n",
       "0     https://www.imdb.com/title/tt1462764/            2023  154 min   \n",
       "1     https://www.imdb.com/title/tt0439572/            2023  144 min   \n",
       "2     https://www.imdb.com/title/tt9362722/            2023  140 min   \n",
       "3    https://www.imdb.com/title/tt12263384/            2023  122 min   \n",
       "4     https://www.imdb.com/title/tt1630029/            2022  192 min   \n",
       "..                                      ...             ...      ...   \n",
       "195   https://www.imdb.com/title/tt0317705/            2004  115 min   \n",
       "196   https://www.imdb.com/title/tt0293429/            2021  110 min   \n",
       "197   https://www.imdb.com/title/tt1790864/            2014  113 min   \n",
       "198  https://www.imdb.com/title/tt18257464/            2023  104 min   \n",
       "199   https://www.imdb.com/title/tt3480822/            2021  134 min   \n",
       "\n",
       "                            Genre IMDB Rating  \\\n",
       "0               Action; Adventure         6.9   \n",
       "1      Action; Adventure; Fantasy         7.2   \n",
       "2    Animation; Action; Adventure         8.9   \n",
       "3                Action; Thriller         7.1   \n",
       "4      Action; Adventure; Fantasy         7.6   \n",
       "..                            ...         ...   \n",
       "195  Animation; Action; Adventure         8.0   \n",
       "196    Action; Adventure; Fantasy         6.1   \n",
       "197       Action; Mystery; Sci-Fi         6.8   \n",
       "198                Action; Comedy         6.7   \n",
       "199     Action; Adventure; Sci-Fi         6.7   \n",
       "\n",
       "                                             Directors  \\\n",
       "0                                        James Mangold   \n",
       "1                                      Andy Muschietti   \n",
       "2    Joaquim Dos Santos; Kemp Powers; Justin K. Tho...   \n",
       "3                                         Sam Hargrave   \n",
       "4                                        James Cameron   \n",
       "..                                                 ...   \n",
       "195                                          Brad Bird   \n",
       "196                                      Simon McQuoid   \n",
       "197                                           Wes Ball   \n",
       "198                                       Nida Manzoor   \n",
       "199                                     Cate Shortland   \n",
       "\n",
       "                                                Actors   Votes  \n",
       "0    Harrison Ford; Phoebe Waller-Bridge; Antonio B...   37047  \n",
       "1    Ezra Miller; Michael Keaton; Sasha Calle; Mich...   79952  \n",
       "2    Shameik Moore; Hailee Steinfeld; Brian Tyree H...  167133  \n",
       "3    Chris Hemsworth; Golshifteh Farahani; Adam Bes...   79746  \n",
       "4    Sam Worthington; Zoe Saldana; Sigourney Weaver...  424292  \n",
       "..                                                 ...     ...  \n",
       "195  Craig T. Nelson; Samuel L. Jackson; Holly Hunt...  766624  \n",
       "196  Lewis Tan; Jessica McNamee; Josh Lawson; Joe T...  182117  \n",
       "197  Dylan O'Brien; Kaya Scodelario; Will Poulter; ...  486015  \n",
       "198  Priya Kansara; Ritu Arya; Renu Brindle; Rekha ...    4929  \n",
       "199  Scarlett Johansson; Florence Pugh; David Harbo...  400156  \n",
       "\n",
       "[200 rows x 9 columns]"
      ]
     },
     "execution_count": 51,
     "metadata": {},
     "output_type": "execute_result"
    }
   ],
   "source": [
    "get_n_pages('action', 4)"
   ]
  },
  {
   "cell_type": "code",
   "execution_count": null,
   "id": "55e989cb",
   "metadata": {},
   "outputs": [],
   "source": []
  }
 ],
 "metadata": {
  "kernelspec": {
   "display_name": "Python 3",
   "language": "python",
   "name": "python3"
  },
  "language_info": {
   "codemirror_mode": {
    "name": "ipython",
    "version": 3
   },
   "file_extension": ".py",
   "mimetype": "text/x-python",
   "name": "python",
   "nbconvert_exporter": "python",
   "pygments_lexer": "ipython3",
   "version": "3.9.6"
  }
 },
 "nbformat": 4,
 "nbformat_minor": 5
}
